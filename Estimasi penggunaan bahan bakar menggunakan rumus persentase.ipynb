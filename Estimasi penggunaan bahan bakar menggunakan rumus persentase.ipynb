{
 "cells": [
  {
   "cell_type": "code",
   "execution_count": 12,
   "metadata": {},
   "outputs": [],
   "source": [
    "import pandas as pd\n"
   ]
  },
  {
   "cell_type": "code",
   "execution_count": 13,
   "metadata": {},
   "outputs": [],
   "source": [
    "# Data jumlah rumah tangga per kecamatan\n",
    "kecamatan_rumah_tangga = {\n",
    "    \"Mariso\": 18137,\n",
    "    \"Mamajang\": 18057,\n",
    "    \"Tamalate\": 26187,\n",
    "    \"Rappocini\": 8019,\n",
    "    \"Makassar\": 10358,\n",
    "    \"Ujung pandang\": 17325,\n",
    "    \"Wajo\": 44039,\n",
    "    \"Bontoala\": 10884,\n",
    "    \"Ujung Tanah\": 44143,\n",
    "    \"Tallo\": 57708,\n",
    "    \"Panakukang\": 63010,\n",
    "    \"Manggala\": 44366,\n",
    "    \"Biring Kanaya\": 45465,\n",
    "    \"Tamanlarea\": 32184,\n",
    "    \"Kepulauan Sangkarrang\": 4272\n",
    "}"
   ]
  },
  {
   "cell_type": "code",
   "execution_count": 14,
   "metadata": {},
   "outputs": [],
   "source": [
    "# Rata-rata persentase penggunaan bahan bakar dalam pecahan desimal\n",
    "persentase_listrik = 0.01025\n",
    "persentase_lpg = 0.48412\n",
    "persentase_minyak_tanah = 0.09608\n",
    "persentase_briket = 0.01504\n",
    "persentase_kayu = 0.36794"
   ]
  },
  {
   "cell_type": "code",
   "execution_count": 15,
   "metadata": {},
   "outputs": [],
   "source": [
    "# Inisialisasi list untuk menyimpan data\n",
    "data = []\n",
    "\n",
    "# Menghitung penggunaan bahan bakar per kecamatan\n",
    "for kecamatan, rumah_tangga in kecamatan_rumah_tangga.items():\n",
    "    penggunaan_listrik = persentase_listrik * rumah_tangga\n",
    "    penggunaan_lpg = persentase_lpg * rumah_tangga\n",
    "    penggunaan_minyak_tanah = persentase_minyak_tanah * rumah_tangga\n",
    "    penggunaan_briket = persentase_briket * rumah_tangga\n",
    "    penggunaan_kayu = persentase_kayu * rumah_tangga\n",
    "    \n",
    "    data.append([kecamatan, penggunaan_listrik, penggunaan_lpg, penggunaan_minyak_tanah, penggunaan_briket, penggunaan_kayu])\n"
   ]
  },
  {
   "cell_type": "code",
   "execution_count": 16,
   "metadata": {},
   "outputs": [
    {
     "name": "stdout",
     "output_type": "stream",
     "text": [
      "                Kecamatan  Penggunaan Listrik  Penggunaan LPG   \n",
      "0                  Mariso           185.90425      8780.48444  \\\n",
      "1                Mamajang           185.08425      8741.75484   \n",
      "2                Tamalate           268.41675     12677.65044   \n",
      "3               Rappocini            82.19475      3882.15828   \n",
      "4                Makassar           106.16950      5014.51496   \n",
      "5           Ujung pandang           177.58125      8387.37900   \n",
      "6                    Wajo           451.39975     21320.16068   \n",
      "7                Bontoala           111.56100      5269.16208   \n",
      "8             Ujung Tanah           452.46575     21370.50916   \n",
      "9                   Tallo           591.50700     27937.59696   \n",
      "10             Panakukang           645.85250     30504.40120   \n",
      "11               Manggala           454.75150     21478.46792   \n",
      "12          Biring Kanaya           466.01625     22010.51580   \n",
      "13             Tamanlarea           329.88600     15580.91808   \n",
      "14  Kepulauan Sangkarrang            43.78800      2068.16064   \n",
      "\n",
      "    Penggunaan Minyak Tanah  Penggunaan Briket  Penggunaan Kayu  \n",
      "0                1742.60296          272.78048       6673.32778  \n",
      "1                1734.91656          271.57728       6643.89258  \n",
      "2                2516.04696          393.85248       9635.24478  \n",
      "3                 770.46552          120.60576       2950.51086  \n",
      "4                 995.19664          155.78432       3811.12252  \n",
      "5                1664.58600          260.56800       6374.56050  \n",
      "6                4231.26712          662.34656      16203.70966  \n",
      "7                1045.73472          163.69536       4004.65896  \n",
      "8                4241.25944          663.91072      16241.97542  \n",
      "9                5544.58464          867.92832      21233.08152  \n",
      "10               6054.00080          947.67040      23183.89940  \n",
      "11               4262.68528          667.26464      16324.02604  \n",
      "12               4368.27720          683.79360      16728.39210  \n",
      "13               3092.23872          484.04736      11841.78096  \n",
      "14                410.45376           64.25088       1571.83968  \n"
     ]
    }
   ],
   "source": [
    "# Membuat DataFrame pandas\n",
    "df = pd.DataFrame(data, columns=[\"Kecamatan\", \"Penggunaan Listrik\", \"Penggunaan LPG\", \"Penggunaan Minyak Tanah\", \"Penggunaan Briket\", \"Penggunaan Kayu\"])\n",
    "\n",
    "# Menampilkan DataFrame sebagai tabel\n",
    "print(df)\n"
   ]
  }
 ],
 "metadata": {
  "kernelspec": {
   "display_name": "Python 3",
   "language": "python",
   "name": "python3"
  },
  "language_info": {
   "codemirror_mode": {
    "name": "ipython",
    "version": 3
   },
   "file_extension": ".py",
   "mimetype": "text/x-python",
   "name": "python",
   "nbconvert_exporter": "python",
   "pygments_lexer": "ipython3",
   "version": "3.11.4"
  },
  "orig_nbformat": 4
 },
 "nbformat": 4,
 "nbformat_minor": 2
}
